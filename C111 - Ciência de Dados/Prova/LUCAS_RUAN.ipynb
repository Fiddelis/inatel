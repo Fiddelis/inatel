{
 "cells": [
  {
   "cell_type": "markdown",
   "metadata": {},
   "source": [
    "## Nome: Lucas Ruan Fidélis Ferreira - GES 206"
   ]
  },
  {
   "cell_type": "code",
   "execution_count": 74,
   "metadata": {},
   "outputs": [],
   "source": [
    "import numpy as np"
   ]
  },
  {
   "cell_type": "markdown",
   "metadata": {},
   "source": [
    "Questão 1\n",
    "Mostre quantos posts deste dataset são do Brazil;"
   ]
  },
  {
   "cell_type": "code",
   "execution_count": 75,
   "metadata": {},
   "outputs": [
    {
     "name": "stdout",
     "output_type": "stream",
     "text": [
      "Quantidade de posts do Brazil: 641\n"
     ]
    }
   ],
   "source": [
    "dataset = np.loadtxt('social_media.csv', delimiter=';', dtype=str, encoding='utf-8')\n",
    "\n",
    "posts = dataset[1:,4]\n",
    "\n",
    "posts_brazil = posts[posts == 'Brazil']\n",
    "\n",
    "qtd_posts_brazil = len(posts_brazil)\n",
    "\n",
    "print(f'Quantidade de posts do Brazil: {qtd_posts_brazil}')"
   ]
  },
  {
   "cell_type": "markdown",
   "metadata": {},
   "source": [
    "Questão 2\n",
    "Calcule a porcentagem de posts deste dataset que possuem a hashtag \"Education\";"
   ]
  },
  {
   "cell_type": "code",
   "execution_count": 76,
   "metadata": {},
   "outputs": [
    {
     "name": "stdout",
     "output_type": "stream",
     "text": [
      "Porcentagem de hashtag Education: 10.5%\n"
     ]
    }
   ],
   "source": [
    "hashtag = dataset[1:, 2]\n",
    "qtd_hashtag = len(hashtag)\n",
    "\n",
    "hashtag_education = hashtag[hashtag == 'Education']\n",
    "qtd_hashtag_education = len(hashtag_education)\n",
    "\n",
    "porcentagem_education = (qtd_hashtag_education/qtd_hashtag)*100\n",
    "print(f'Porcentagem de hashtag Education: {porcentagem_education}%')"
   ]
  },
  {
   "cell_type": "markdown",
   "metadata": {},
   "source": [
    "Questão 3\n",
    "Calcule a média de Views e Likes dos posts deste dataset pertencentes ao Instagram. Em seguida, guarde os resultados em um dicionário e mostre seus valores;"
   ]
  },
  {
   "cell_type": "code",
   "execution_count": 77,
   "metadata": {},
   "outputs": [
    {
     "name": "stdout",
     "output_type": "stream",
     "text": [
      "Média de Views: 2404079.88\n",
      "Média de Likes: 257118.22\n",
      "--- Dicionários ---\n",
      "2404079.8778877887: 257118.21782178216\n",
      "likes: 257118.21782178216\n",
      "views: 2404079.8778877887\n"
     ]
    }
   ],
   "source": [
    "posts = dataset[1:,[1,5,6]]\n",
    "\n",
    "posts_instagram = posts[posts[:,0] == \"Instagram\"]\n",
    "\n",
    "posts_views = np.array(posts_instagram[:,1], dtype=int)\n",
    "posts_likes = np.array(posts_instagram[:,2], dtype=int)\n",
    "\n",
    "media_views = np.mean(posts_views)\n",
    "media_likes = np.mean(posts_likes)\n",
    "print(f'Média de Views: {media_views:.2f}')\n",
    "print(f'Média de Likes: {media_likes:.2f}')\n",
    "\n",
    "dicionario = {}\n",
    "\n",
    "dicionario[media_views] = media_likes\n",
    "\n",
    "dicionario['likes'] = media_likes\n",
    "dicionario['views'] = media_views\n",
    "\n",
    "\n",
    "print('--- Dicionários ---')\n",
    "print(f'{media_views}: {dicionario[media_views]}')\n",
    "print(f'likes: {dicionario['likes']}')\n",
    "print(f'views: {dicionario[\"views\"]}')\n"
   ]
  },
  {
   "cell_type": "markdown",
   "metadata": {},
   "source": [
    "Questão 4\n",
    "Para a plataforma com maior quantidade de posts neste dataset, mostre seu nome e seu número de posts;"
   ]
  },
  {
   "cell_type": "code",
   "execution_count": 78,
   "metadata": {},
   "outputs": [
    {
     "name": "stdout",
     "output_type": "stream",
     "text": [
      "['Instagram' 'TikTok' 'Twitter' 'YouTube']\n",
      "[1212 1260 1204 1324]\n",
      "A plataforma com a maior quantidade de posts é o YouTube com 1324 posts\n"
     ]
    }
   ],
   "source": [
    "posts = np.unique_all(dataset[1:,1])\n",
    "print(posts.values)\n",
    "print(posts.counts)\n",
    "\n",
    "maior_posts = np.max(posts.counts)\n",
    "plataforma = posts.values[np.argmax(posts.counts)]\n",
    "\n",
    "print(f'A plataforma com a maior quantidade de posts é o {plataforma} com {maior_posts} posts')"
   ]
  },
  {
   "cell_type": "markdown",
   "metadata": {},
   "source": [
    "Questão 5\n",
    "Mostre a origem (região) de onde saiu o post com maior número de likes segundo este dataset."
   ]
  },
  {
   "cell_type": "code",
   "execution_count": 79,
   "metadata": {},
   "outputs": [
    {
     "name": "stdout",
     "output_type": "stream",
     "text": [
      "A região com maior número de likes é Germany com um total de 499922 likes\n"
     ]
    }
   ],
   "source": [
    "posts = dataset[1:,[4, 6]]\n",
    "\n",
    "likes = np.array(posts[0:,1], dtype=int)\n",
    "\n",
    "maior_like = np.max(likes)\n",
    "regiao = posts[np.argmax(likes),0]\n",
    "\n",
    "print(f'A região com maior número de likes é {regiao} com um total de {maior_like} likes')"
   ]
  }
 ],
 "metadata": {
  "kernelspec": {
   "display_name": ".venv",
   "language": "python",
   "name": "python3"
  },
  "language_info": {
   "codemirror_mode": {
    "name": "ipython",
    "version": 3
   },
   "file_extension": ".py",
   "mimetype": "text/x-python",
   "name": "python",
   "nbconvert_exporter": "python",
   "pygments_lexer": "ipython3",
   "version": "3.13.1"
  }
 },
 "nbformat": 4,
 "nbformat_minor": 2
}
