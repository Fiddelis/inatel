{
 "cells": [
  {
   "cell_type": "markdown",
   "metadata": {},
   "source": [
    "## Coleções\n",
    "\n",
    "- Tuplas ()\n",
    "- Listas []\n",
    "- Conjuntos {}\n",
    "- Dicionários {:}\n",
    "\n",
    "---"
   ]
  },
  {
   "cell_type": "markdown",
   "metadata": {},
   "source": [
    "## Tuplas"
   ]
  },
  {
   "cell_type": "code",
   "execution_count": 15,
   "metadata": {},
   "outputs": [
    {
     "name": "stdout",
     "output_type": "stream",
     "text": [
      "nomes:\t\t ('Lucas', 'Ruan', 'Fidelis')\n",
      "nomes[0]:\t Lucas\n",
      "nomes[:2]:\t ('Lucas', 'Ruan')\n",
      "nomes[2:]:\t ('Fidelis',)\n",
      "nomes[1:3]:\t ('Ruan', 'Fidelis')\n",
      "nomes[-1]:\t Fidelis\n"
     ]
    }
   ],
   "source": [
    "nomes = ('Lucas', 'Ruan', 'Fidelis')\n",
    "print(\"nomes:\\t\\t\", nomes)\n",
    "# Slicing de dados\n",
    "print(\"nomes[0]:\\t\", nomes[0])\n",
    "print(\"nomes[:2]:\\t\",nomes[:2]) # Primeiro indice é INCLUSIVE e o ultimo indice é Exclusive\n",
    "print(\"nomes[2:]:\\t\", nomes[2:])\n",
    "print(\"nomes[1:3]:\\t\", nomes[1:3])\n",
    "print(\"nomes[-1]:\\t\", nomes[-1])"
   ]
  },
  {
   "cell_type": "code",
   "execution_count": null,
   "metadata": {},
   "outputs": [
    {
     "ename": "NameError",
     "evalue": "name 'nomes' is not defined",
     "output_type": "error",
     "traceback": [
      "\u001b[1;31m---------------------------------------------------------------------------\u001b[0m",
      "\u001b[1;31mNameError\u001b[0m                                 Traceback (most recent call last)",
      "Cell \u001b[1;32mIn[2], line 2\u001b[0m\n\u001b[0;32m      1\u001b[0m \u001b[38;5;66;03m# Imutavel\u001b[39;00m\n\u001b[1;32m----> 2\u001b[0m \u001b[43mnomes\u001b[49m[\u001b[38;5;241m0\u001b[39m] \u001b[38;5;241m=\u001b[39m \u001b[38;5;124m\"\u001b[39m\u001b[38;5;124mteste\u001b[39m\u001b[38;5;124m\"\u001b[39m\n",
      "\u001b[1;31mNameError\u001b[0m: name 'nomes' is not defined"
     ]
    }
   ],
   "source": [
    "# Ele é imutavel\n",
    "nomes[0] = \"teste\""
   ]
  },
  {
   "cell_type": "markdown",
   "metadata": {},
   "source": [
    "## Listas"
   ]
  },
  {
   "cell_type": "code",
   "execution_count": null,
   "metadata": {},
   "outputs": [
    {
     "name": "stdout",
     "output_type": "stream",
     "text": [
      "['Lucas', 'Ruan', 'Fidelis', 'Ferreira']\n"
     ]
    }
   ],
   "source": [
    "# Pode modificar\n",
    "nomes = ['Lucas', 'Ruan', 'Fidelis']\n",
    "nomes.append(\"Ferreira\")\n",
    "print(nomes)"
   ]
  },
  {
   "cell_type": "markdown",
   "metadata": {},
   "source": [
    "## Conjuntos"
   ]
  },
  {
   "cell_type": "code",
   "execution_count": null,
   "metadata": {},
   "outputs": [
    {
     "name": "stdout",
     "output_type": "stream",
     "text": [
      "{'ruan', 'lucas'}\n",
      "{'ruan', 'fidelis', 'lucas'}\n",
      "{'ruan', 'fidelis'}\n"
     ]
    }
   ],
   "source": [
    "# Não guarda valores repetidos e nem a ordem\n",
    "nomes = {'lucas', 'lucas', 'ruan'}\n",
    "print(nomes)\n",
    "\n",
    "# ADICIONAR\n",
    "nomes.add('fidelis')\n",
    "print(nomes)\n",
    "\n",
    "# DELETAR\n",
    "nomes.remove('lucas')\n",
    "print(nomes)"
   ]
  },
  {
   "cell_type": "markdown",
   "metadata": {},
   "source": [
    "## Dicionário"
   ]
  },
  {
   "cell_type": "code",
   "execution_count": 16,
   "metadata": {},
   "outputs": [
    {
     "name": "stdout",
     "output_type": "stream",
     "text": [
      "{'nome': 'lucas', 'idade': 42}\n",
      "lucas\n"
     ]
    }
   ],
   "source": [
    "pessoa = {'nome':'lucas', 'idade': 42}\n",
    "print(pessoa)\n",
    "print(pessoa['nome'])"
   ]
  }
 ],
 "metadata": {
  "kernelspec": {
   "display_name": ".venv",
   "language": "python",
   "name": "python3"
  },
  "language_info": {
   "codemirror_mode": {
    "name": "ipython",
    "version": 3
   },
   "file_extension": ".py",
   "mimetype": "text/x-python",
   "name": "python",
   "nbconvert_exporter": "python",
   "pygments_lexer": "ipython3",
   "version": "3.13.1"
  }
 },
 "nbformat": 4,
 "nbformat_minor": 2
}
