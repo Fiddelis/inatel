{
 "cells": [
  {
   "cell_type": "markdown",
   "metadata": {},
   "source": [
    "1. Crie uma lista preenchida com os 5 primeiros colocados de um\n",
    "Campeonato de Futebol, na ordem de colocação. Depois mostre:\n",
    "a. Apenas os 3 primeiros colocados;\n",
    "b. Os últimos 2 colocados;\n",
    "c. Uma lista com os times em ordem alfabética;\n",
    "d. Em que posição da tabela se encontra o Barcelona;"
   ]
  },
  {
   "cell_type": "code",
   "execution_count": 8,
   "metadata": {},
   "outputs": [
    {
     "name": "stdout",
     "output_type": "stream",
     "text": [
      "['São Paulo', 'Vasco', 'Palmeiras']\n",
      "['Atlético Mineiro']\n",
      "['Atlético Mineiro', 'Barcelona', 'Palmeiras', 'São Paulo', 'Vasco']\n",
      "3\n"
     ]
    }
   ],
   "source": [
    "lista = [\"São Paulo\", \"Vasco\", \"Palmeiras\", \"Barcelona\", \"Atlético Mineiro\"]\n",
    "\n",
    "print(lista[:3])\n",
    "\n",
    "print(lista[4:])\n",
    "\n",
    "print(sorted(lista))\n",
    "\n",
    "print(lista.index(\"Barcelona\"))"
   ]
  },
  {
   "cell_type": "markdown",
   "metadata": {},
   "source": [
    "2. Crie dois conjuntos, um para cada loja. Identifique quais modelos de\n",
    "smartphones cada uma delas vendem. Em seguida, mostre quais\n",
    "modelos no total você terá opção de comprar se visita-las e quais\n",
    "modelos se encontram disponíveis em ambas as lojas;"
   ]
  },
  {
   "cell_type": "code",
   "execution_count": null,
   "metadata": {},
   "outputs": [
    {
     "name": "stdout",
     "output_type": "stream",
     "text": [
      "{'Samgung', 'Iphone', 'Modelo2', 'Modelo1', 'Modelo3'}\n",
      "{'Samgung', 'Iphone', 'Modelo2'}\n"
     ]
    }
   ],
   "source": [
    "loja1 = {\"Samgung\", \"Iphone\", \"Modelo1\", \"Modelo2\"}\n",
    "loja2 = {\"Samgung\", \"Iphone\", \"Modelo2\", \"Modelo3\"}\n",
    "\n",
    "print(loja1 | loja2)\n",
    "\n",
    "print(loja1 & loja2)"
   ]
  },
  {
   "cell_type": "markdown",
   "metadata": {},
   "source": [
    "3. Faça um programa que leia o nome e a média de um aluno e guardeos\n",
    "em um dicionário. Em seguida, a partir da média (para ser\n",
    "aprovado deve ter média >=50), gere a situação final do aluno (‘AP’\n",
    "ou ‘RP’), que também deve ser guardada neste dicionário. No final,\n",
    "mostre todo o conteúdo deste dicionário;\n",
    "CIÊNCIA DE DADOS COM PYTHON Prof. Renzo Paranaíba Mesquita"
   ]
  },
  {
   "cell_type": "code",
   "execution_count": 18,
   "metadata": {},
   "outputs": [
    {
     "name": "stdout",
     "output_type": "stream",
     "text": [
      "{'Nome': 'Lucas', 'Media': 55, 'Situacao': 'AP'}\n"
     ]
    }
   ],
   "source": [
    "aluno = {}\n",
    "\n",
    "aluno['Nome'] = input('Nome: ')\n",
    "aluno['Media'] = int(input('Média: '))\n",
    "\n",
    "aluno['Situacao'] = 'AP' if aluno['Media'] >= 50 else 'RP'\n",
    "\n",
    "print(aluno)"
   ]
  },
  {
   "cell_type": "markdown",
   "metadata": {},
   "source": [
    "4. Faça um programa que leia o nome e peso de 3 pessoas e no final\n",
    "mostre o nome da pessoa mais pesada e a mais leve;"
   ]
  },
  {
   "cell_type": "code",
   "execution_count": null,
   "metadata": {},
   "outputs": [
    {
     "name": "stdout",
     "output_type": "stream",
     "text": [
      "A pessoa mais pesada é Fiddelis com 3.0kg.\n",
      "A pessoa mais leve é Lucas com 1.0kg.\n"
     ]
    }
   ],
   "source": [
    "pessoas = []\n",
    "\n",
    "for _ in range(3):\n",
    "    nome = input(\"Nome: \")\n",
    "    peso = float(input(\"Peso: \"))\n",
    "    pessoas.append((nome, peso))\n",
    "\n",
    "mais_pesada = pessoas[0]\n",
    "mais_leve = pessoas[0]\n",
    "\n",
    "for pessoa in pessoas:\n",
    "    if pessoa[1] > mais_pesada[1]:\n",
    "        mais_pesada = pessoa\n",
    "    if pessoa[1] < mais_leve[1]:\n",
    "        mais_leve = pessoa\n",
    "\n",
    "print(f\"A pessoa mais pesada é {mais_pesada[0]} com {mais_pesada[1]}kg.\")\n",
    "print(f\"A pessoa mais leve é {mais_leve[0]} com {mais_leve[1]}kg.\")"
   ]
  },
  {
   "cell_type": "markdown",
   "metadata": {},
   "source": [
    "5. Desenvolva um programa que leia o nome, idade e sexo de n pessoas.\n",
    "No final, mostre:\n",
    "a. A média de idade do grupo;\n",
    "b. Quantas mulheres têm menos de 20 anos."
   ]
  },
  {
   "cell_type": "code",
   "execution_count": null,
   "metadata": {},
   "outputs": [
    {
     "name": "stdout",
     "output_type": "stream",
     "text": [
      "18.0\n",
      "2\n"
     ]
    }
   ],
   "source": [
    "pessoas = []\n",
    "\n",
    "n = int(input(\"quantidade de pessoas: \"))\n",
    "\n",
    "for _ in range(n):\n",
    "    pessoas.append({'nome': input(\"Nome: \"), 'idade': int(input('Idade: ')), 'sexo': input(\"Sexo(m/h): \")})\n",
    "\n",
    "media = 0\n",
    "mulheres = 0\n",
    "\n",
    "for ps in pessoas:\n",
    "    media += ps['idade']\n",
    "    if ps['sexo'] == 'm' and ps['idade'] < 20:\n",
    "        mulheres += 1\n",
    "\n",
    "media  /= n\n",
    "\n",
    "print(media)\n",
    "print(mulheres)\n",
    "\n"
   ]
  }
 ],
 "metadata": {
  "kernelspec": {
   "display_name": "Python 3",
   "language": "python",
   "name": "python3"
  },
  "language_info": {
   "codemirror_mode": {
    "name": "ipython",
    "version": 3
   },
   "file_extension": ".py",
   "mimetype": "text/x-python",
   "name": "python",
   "nbconvert_exporter": "python",
   "pygments_lexer": "ipython3",
   "version": "3.13.1"
  }
 },
 "nbformat": 4,
 "nbformat_minor": 2
}
