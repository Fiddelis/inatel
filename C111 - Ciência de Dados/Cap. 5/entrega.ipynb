{
 "cells": [
  {
   "cell_type": "code",
   "execution_count": 10,
   "metadata": {},
   "outputs": [],
   "source": [
    "import pandas as pd\n",
    "import numpy as np"
   ]
  },
  {
   "cell_type": "markdown",
   "metadata": {},
   "source": [
    "1\n",
    "Crie duas Series com os seguintes valores"
   ]
  },
  {
   "cell_type": "code",
   "execution_count": 3,
   "metadata": {},
   "outputs": [
    {
     "name": "stdout",
     "output_type": "stream",
     "text": [
      "Java      16.25\n",
      "C         16.04\n",
      "Python     9.85\n",
      "dtype: float64\n",
      "C         16.21\n",
      "Python    12.12\n",
      "Java      11.68\n",
      "dtype: float64\n"
     ]
    }
   ],
   "source": [
    "s1 = pd.Series({'Java':16.25, 'C':16.04, 'Python':9.85})\n",
    "s2 = pd.Series({'C':16.21, 'Python':12.12, 'Java':11.68})\n",
    "\n",
    "print(s1)\n",
    "print(s2)"
   ]
  },
  {
   "cell_type": "markdown",
   "metadata": {},
   "source": [
    "2\n",
    "Os valores das Series criadas na Questão 1 representam as fatias de mercado (porcentagem) de 3 linguagens de programação populares em dois anos consecutivos. Para cada ano, apresente a porcentagem total que elas juntas representam no mercado"
   ]
  },
  {
   "cell_type": "code",
   "execution_count": 9,
   "metadata": {},
   "outputs": [
    {
     "name": "stdout",
     "output_type": "stream",
     "text": [
      "Ano 1: 42.14%\n",
      "Ano 2: 40.01%\n"
     ]
    }
   ],
   "source": [
    "total1 = s1.sum()\n",
    "total2 = s2.sum()\n",
    "\n",
    "print(f'Ano 1: {total1}%')\n",
    "print(f'Ano 2: {total2}%')"
   ]
  },
  {
   "cell_type": "markdown",
   "metadata": {},
   "source": [
    "3\n",
    "Apresente o crescimento/declínio no mercado de cada linguagem do primeiro ano para o segundo ano"
   ]
  },
  {
   "cell_type": "code",
   "execution_count": 16,
   "metadata": {},
   "outputs": [
    {
     "name": "stdout",
     "output_type": "stream",
     "text": [
      "C         0.17\n",
      "Java     -4.57\n",
      "Python    2.27\n",
      "dtype: float64\n"
     ]
    }
   ],
   "source": [
    "cresc_decl = s2 - s1\n",
    "\n",
    "print(f'{cresc_decl}')"
   ]
  },
  {
   "cell_type": "markdown",
   "metadata": {},
   "source": [
    "4\n",
    "Baseado nos resultados da Questão 3 mostre apenas os dados das\n",
    "linguagens que tiveram crescimento"
   ]
  },
  {
   "cell_type": "code",
   "execution_count": null,
   "metadata": {},
   "outputs": [
    {
     "name": "stdout",
     "output_type": "stream",
     "text": [
      "C         0.17\n",
      "Python    2.27\n",
      "dtype: float64\n"
     ]
    }
   ],
   "source": [
    "cresc = cresc_decl[cresc_decl > 0]\n",
    "\n",
    "print(cresc)"
   ]
  },
  {
   "cell_type": "markdown",
   "metadata": {},
   "source": [
    "5\n",
    "Se estas porcentagens de crescimento/declínio se mantivessem iguais para os próximos 2 anos, qual seria a linguagem mais popular?\n",
    "Dica use o método nlargest 1 no final para retornar rapidamente a label e maior valor de uma Series"
   ]
  },
  {
   "cell_type": "code",
   "execution_count": 25,
   "metadata": {},
   "outputs": [
    {
     "name": "stdout",
     "output_type": "stream",
     "text": [
      "Python    2.27\n",
      "C         0.17\n",
      "dtype: float64\n"
     ]
    }
   ],
   "source": [
    "maior_cresc = cresc.nlargest()\n",
    "\n",
    "print(maior_cresc)"
   ]
  },
  {
   "cell_type": "markdown",
   "metadata": {},
   "source": [
    "6\n",
    "Utilizando do DataFrame exemplo do tópico 5.3 deste material, calcule a média dos elementos da coluna X que são menores que 30"
   ]
  },
  {
   "cell_type": "code",
   "execution_count": 57,
   "metadata": {},
   "outputs": [
    {
     "name": "stdout",
     "output_type": "stream",
     "text": [
      "27.75\n"
     ]
    }
   ],
   "source": [
    "df = pd.DataFrame(\n",
    "    index=['A', 'B', 'C', 'D', 'E'],\n",
    "    columns=['W', 'X', 'Y', 'Z'],\n",
    "    data=np.random.randint (1, 50, [5, 4]))\n",
    "\n",
    "media_x = np.mean(df[df['X'] < 30])\n",
    "\n",
    "print(media_x)"
   ]
  },
  {
   "cell_type": "markdown",
   "metadata": {},
   "source": [
    "7\n",
    "Utilizando do mesmo DataFrame apresente a média dos elementos da linha D usando a função loc como base e a soma dos elementos da linha E usando a função iloc como base"
   ]
  },
  {
   "cell_type": "code",
   "execution_count": 53,
   "metadata": {},
   "outputs": [
    {
     "name": "stdout",
     "output_type": "stream",
     "text": [
      "W    25.0\n",
      "X     1.0\n",
      "Y    27.0\n",
      "Z    41.0\n",
      "dtype: float64\n",
      "W    13.0\n",
      "X    27.0\n",
      "Y     3.0\n",
      "Z    37.0\n",
      "dtype: float64\n"
     ]
    }
   ],
   "source": [
    "df_loc = df.loc[['D']]\n",
    "df_iloc = df.iloc[[-1]]\n",
    "\n",
    "print(df_loc.mean())\n",
    "print(df_iloc.mean())"
   ]
  },
  {
   "cell_type": "markdown",
   "metadata": {},
   "source": [
    "8\n",
    "Faça um Slicing na matriz mostrando apenas as linhas A, C e E juntamente com as colunas X e Y Em seguida, mostre qual seria a soma dos elementos de cada uma destas linhas e cada uma destas colunas"
   ]
  },
  {
   "cell_type": "code",
   "execution_count": 66,
   "metadata": {},
   "outputs": [
    {
     "name": "stdout",
     "output_type": "stream",
     "text": [
      "    X   Y\n",
      "A  33  10\n",
      "C  40  30\n",
      "E  45  46\n",
      "\n",
      "Soma das linhas:\n",
      "A    43\n",
      "C    70\n",
      "E    91\n",
      "dtype: int64\n",
      "\n",
      "Soma das colunas:\n",
      "X    118\n",
      "Y     86\n",
      "dtype: int64\n"
     ]
    }
   ],
   "source": [
    "slicing = df.loc[['A','C','E'], ['X','Y']]\n",
    "\n",
    "print(slicing)\n",
    "\n",
    "linha_somas = slicing.sum(axis=1)\n",
    "print(\"\\nSoma das linhas:\")\n",
    "print(linha_somas)\n",
    "\n",
    "coluna_somas = slicing.sum(axis=0)\n",
    "print(\"\\nSoma das colunas:\")\n",
    "print(coluna_somas)"
   ]
  }
 ],
 "metadata": {
  "kernelspec": {
   "display_name": ".venv",
   "language": "python",
   "name": "python3"
  },
  "language_info": {
   "codemirror_mode": {
    "name": "ipython",
    "version": 3
   },
   "file_extension": ".py",
   "mimetype": "text/x-python",
   "name": "python",
   "nbconvert_exporter": "python",
   "pygments_lexer": "ipython3",
   "version": "3.13.1"
  }
 },
 "nbformat": 4,
 "nbformat_minor": 2
}
