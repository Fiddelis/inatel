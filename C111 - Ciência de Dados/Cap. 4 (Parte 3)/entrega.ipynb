{
 "cells": [
  {
   "cell_type": "code",
   "execution_count": 138,
   "metadata": {},
   "outputs": [],
   "source": [
    "import numpy as np"
   ]
  },
  {
   "cell_type": "markdown",
   "metadata": {},
   "source": [
    "Baseado nos commandos que vimos até o momento e no Dataset fornecido, crie scripts em Python que respondam às seguintes perguntas:"
   ]
  },
  {
   "cell_type": "markdown",
   "metadata": {},
   "source": [
    "1. Apresente a porcentagem de missões que deram certo"
   ]
  },
  {
   "cell_type": "code",
   "execution_count": 139,
   "metadata": {},
   "outputs": [
    {
     "name": "stdout",
     "output_type": "stream",
     "text": [
      "Porcentagem de sucesso: 89.71%\n"
     ]
    }
   ],
   "source": [
    "dataset = np.loadtxt('space.csv', delimiter = ';', dtype=str, encoding='utf-8')\n",
    "\n",
    "status_missions = dataset[1:, -1]\n",
    "\n",
    "total = len(status_missions)\n",
    "success = np.sum(status_missions == 'Success')\n",
    "\n",
    "porcentage_success = (success/total) * 100\n",
    "\n",
    "print(f'Porcentagem de sucesso: {porcentage_success:.2f}%')"
   ]
  },
  {
   "cell_type": "markdown",
   "metadata": {},
   "source": [
    "2. Qual a media de gastos de uma missão especial se baseando em missões que possuam valores disponíveis (> 0)?"
   ]
  },
  {
   "cell_type": "code",
   "execution_count": 140,
   "metadata": {},
   "outputs": [
    {
     "name": "stdout",
     "output_type": "stream",
     "text": [
      "Media de gastos: 153.79\n"
     ]
    }
   ],
   "source": [
    "gastos = dataset[1:, -2]\n",
    "\n",
    "gastos_convertidos = []\n",
    "\n",
    "for valor in gastos:\n",
    "    if valor:\n",
    "        gastos_convertidos.append(float(valor))\n",
    "\n",
    "gastos_convertidos = np.array(gastos_convertidos)\n",
    "\n",
    "gastos_validos = gastos_convertidos[gastos_convertidos > 0]\n",
    "\n",
    "print(f'Media de gastos: {gastos_validos.mean():.2f}')\n"
   ]
  },
  {
   "cell_type": "markdown",
   "metadata": {},
   "source": [
    "3. Encontre quantas missões espaciais neste Dataset foram realizadas pelos Estados Unidos (EUA)"
   ]
  },
  {
   "cell_type": "code",
   "execution_count": 141,
   "metadata": {},
   "outputs": [
    {
     "name": "stdout",
     "output_type": "stream",
     "text": [
      "Quantidade de missoes no EUA: 1344\n"
     ]
    }
   ],
   "source": [
    "missoes = dataset[1:, 2]\n",
    "\n",
    "missoes_usa = missoes[np.char.find(missoes, \"USA\") != -1]\n",
    "print(f'Quantidade de missoes no EUA: {len(missoes_usa)}')"
   ]
  },
  {
   "cell_type": "markdown",
   "metadata": {},
   "source": [
    "4. Encontre qual foi a missão mais cara realizada pela empresas “SpaceX”"
   ]
  },
  {
   "cell_type": "code",
   "execution_count": 142,
   "metadata": {},
   "outputs": [
    {
     "name": "stdout",
     "output_type": "stream",
     "text": [
      "A missão mais cara da SpaceX é a Falcon Heavy | STP-2 com o gasto de 90.00\n"
     ]
    }
   ],
   "source": [
    "missoes = dataset[1:, [1, 4, 6]]\n",
    "# print(missoes)\n",
    "\n",
    "missoes_spacex = missoes[np.char.find(missoes[:, 0], \"SpaceX\") != -1]\n",
    "# print(missoes_spacex)\n",
    "\n",
    "custos_spacex = missoes_spacex[:, -1].astype(float)\n",
    "\n",
    "missao_mais_cara = missoes_spacex[np.argmax(custos_spacex)]\n",
    "\n",
    "print(f'A missão mais cara da {missao_mais_cara[0]} é a {missao_mais_cara[1]} com o gasto de {float(missao_mais_cara[2]):.2f}')\n",
    "\n"
   ]
  },
  {
   "cell_type": "markdown",
   "metadata": {},
   "source": [
    "5. Mostre o nome das empresas que já realizaram missões espaciais, juntamente com suas respectivas quantidades de missões (use o for no final para mostrar as informações)"
   ]
  },
  {
   "cell_type": "code",
   "execution_count": 143,
   "metadata": {},
   "outputs": [
    {
     "name": "stdout",
     "output_type": "stream",
     "text": [
      "Empresa: AEB | Missoes: 3\n",
      "Empresa: AMBA | Missoes: 8\n",
      "Empresa: ASI | Missoes: 9\n",
      "Empresa: Arianespace | Missoes: 279\n",
      "Empresa: Arm??e de l'Air | Missoes: 4\n",
      "Empresa: Blue Origin | Missoes: 12\n",
      "Empresa: Boeing | Missoes: 136\n",
      "Empresa: CASC | Missoes: 251\n",
      "Empresa: CASIC | Missoes: 5\n",
      "Empresa: CECLES | Missoes: 4\n",
      "Empresa: CNES | Missoes: 8\n",
      "Empresa: Douglas | Missoes: 1\n",
      "Empresa: EER | Missoes: 1\n",
      "Empresa: ESA | Missoes: 13\n",
      "Empresa: Eurockot | Missoes: 13\n",
      "Empresa: ExPace | Missoes: 10\n",
      "Empresa: Exos | Missoes: 4\n",
      "Empresa: General Dynamics | Missoes: 251\n",
      "Empresa: IAI | Missoes: 11\n",
      "Empresa: ILS | Missoes: 46\n",
      "Empresa: IRGC | Missoes: 1\n",
      "Empresa: ISA | Missoes: 13\n",
      "Empresa: ISAS | Missoes: 30\n",
      "Empresa: ISRO | Missoes: 76\n",
      "Empresa: JAXA | Missoes: 7\n",
      "Empresa: KARI | Missoes: 3\n",
      "Empresa: KCST | Missoes: 5\n",
      "Empresa: Khrunichev | Missoes: 1\n",
      "Empresa: Kosmotras | Missoes: 22\n",
      "Empresa: Land Launch | Missoes: 7\n",
      "Empresa: Landspace | Missoes: 1\n",
      "Empresa: Lockheed | Missoes: 79\n",
      "Empresa: MHI | Missoes: 84\n",
      "Empresa: MITT | Missoes: 7\n",
      "Empresa: Martin Marietta | Missoes: 114\n",
      "Empresa: NASA | Missoes: 203\n",
      "Empresa: Northrop | Missoes: 83\n",
      "Empresa: OKB-586 | Missoes: 2\n",
      "Empresa: OneSpace | Missoes: 1\n",
      "Empresa: RAE | Missoes: 2\n",
      "Empresa: RVSN USSR | Missoes: 1777\n",
      "Empresa: Rocket Lab | Missoes: 13\n",
      "Empresa: Roscosmos | Missoes: 55\n",
      "Empresa: SRC | Missoes: 3\n",
      "Empresa: Sandia | Missoes: 1\n",
      "Empresa: Sea Launch | Missoes: 36\n",
      "Empresa: SpaceX | Missoes: 100\n",
      "Empresa: Starsem | Missoes: 1\n",
      "Empresa: ULA | Missoes: 140\n",
      "Empresa: US Air Force | Missoes: 161\n",
      "Empresa: US Navy | Missoes: 17\n",
      "Empresa: UT | Missoes: 5\n",
      "Empresa: VKS RF | Missoes: 201\n",
      "Empresa: Virgin Orbit | Missoes: 1\n",
      "Empresa: Yuzhmash | Missoes: 2\n",
      "Empresa: i-Space | Missoes: 1\n"
     ]
    }
   ],
   "source": [
    "empresas = dataset[1:, 1]\n",
    "\n",
    "empresas_unicas = np.unique_all(empresas)\n",
    "\n",
    "empresas_val = np.column_stack((empresas_unicas.values, empresas_unicas.counts))\n",
    "\n",
    "for empresa in empresas_val:\n",
    "    print(f'Empresa: {empresa[0]} | Missoes: {empresa[1]}')"
   ]
  }
 ],
 "metadata": {
  "kernelspec": {
   "display_name": ".venv",
   "language": "python",
   "name": "python3"
  },
  "language_info": {
   "codemirror_mode": {
    "name": "ipython",
    "version": 3
   },
   "file_extension": ".py",
   "mimetype": "text/x-python",
   "name": "python",
   "nbconvert_exporter": "python",
   "pygments_lexer": "ipython3",
   "version": "3.13.1"
  }
 },
 "nbformat": 4,
 "nbformat_minor": 2
}
