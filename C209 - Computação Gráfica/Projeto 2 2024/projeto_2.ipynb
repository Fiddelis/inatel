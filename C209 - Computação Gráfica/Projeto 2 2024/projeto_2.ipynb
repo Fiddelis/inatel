{
 "cells": [
  {
   "cell_type": "markdown",
   "metadata": {},
   "source": [
    "### Importar bibliotecas"
   ]
  },
  {
   "cell_type": "code",
   "execution_count": 15,
   "metadata": {},
   "outputs": [],
   "source": [
    "import moviepy.editor as mpe\n",
    "import numpy as np"
   ]
  },
  {
   "cell_type": "markdown",
   "metadata": {},
   "source": [
    "### Abrir imagem"
   ]
  },
  {
   "cell_type": "code",
   "execution_count": 16,
   "metadata": {},
   "outputs": [],
   "source": [
    "video = mpe.VideoFileClip(\"video.mp4\")"
   ]
  },
  {
   "cell_type": "markdown",
   "metadata": {},
   "source": [
    "### Inverter a imagem a cada 20s"
   ]
  },
  {
   "cell_type": "code",
   "execution_count": 17,
   "metadata": {},
   "outputs": [],
   "source": [
    "def inverter_frame(frame):\n",
    "    return np.flip(frame, axis=1)\n",
    "\n",
    "def processar_video(clip):\n",
    "    def inverter_a_cada_20s(get_frame, t):\n",
    "        # Verificar se esta em um intervalo de 20s\n",
    "        quociente = int(t) // 20\n",
    "        if quociente % 2 == 1:\n",
    "            frame = get_frame(t)\n",
    "            return inverter_frame(frame)\n",
    "        else:\n",
    "            return get_frame(t)\n",
    "    \n",
    "    return clip.fl(inverter_a_cada_20s)\n",
    "\n",
    "video_invertido = processar_video(video)"
   ]
  },
  {
   "cell_type": "markdown",
   "metadata": {},
   "source": [
    "### Diminuir o volume a cada 30s"
   ]
  },
  {
   "cell_type": "code",
   "execution_count": 18,
   "metadata": {},
   "outputs": [],
   "source": [
    "# Calcula o volume em determinado intervalo\n",
    "def calculo_do_volume(t, audio_shape):\n",
    "    mask = t >= duracao_total - 10\n",
    "    intervals = t // 30\n",
    "    factors = 1 - 0.2 * intervals\n",
    "    factors[mask] = 0.0\n",
    "    return np.tile(np.maximum(factors, 0.0), (audio_shape[1], 1)).T\n",
    "\n",
    "# Aplica o volume a cada quadro de áudio\n",
    "def aplicar_volume(get_audio_frame, t):\n",
    "    audio_frame = get_audio_frame(t)\n",
    "    fator = calculo_do_volume(t, audio_frame.shape)\n",
    "    return audio_frame * fator\n",
    "\n",
    "\n",
    "duracao_total = video_invertido.duration\n",
    "audio_reduzido = video_invertido.audio.fl(aplicar_volume) # Aplica a redução de volume\n",
    "video_audio_modificado = video_invertido.set_audio(audio_reduzido) # Combina o vídeo e o áudio\n"
   ]
  },
  {
   "cell_type": "markdown",
   "metadata": {},
   "source": [
    "### Cortar os segmentos e mudar a ordem"
   ]
  },
  {
   "cell_type": "code",
   "execution_count": 19,
   "metadata": {},
   "outputs": [
    {
     "name": "stderr",
     "output_type": "stream",
     "text": [
      "t:  35%|███▌      | 1583/4506 [03:33<00:10, 266.41it/s, now=None]"
     ]
    },
    {
     "name": "stdout",
     "output_type": "stream",
     "text": [
      "Moviepy - Building video video_final.mp4.\n",
      "MoviePy - Writing audio in video_finalTEMP_MPY_wvf_snd.mp3\n"
     ]
    },
    {
     "name": "stderr",
     "output_type": "stream",
     "text": [
      "t:  35%|███▌      | 1583/4506 [03:35<00:10, 266.41it/s, now=None]"
     ]
    },
    {
     "name": "stdout",
     "output_type": "stream",
     "text": [
      "MoviePy - Done.\n",
      "Moviepy - Writing video video_final.mp4\n",
      "\n"
     ]
    },
    {
     "name": "stderr",
     "output_type": "stream",
     "text": [
      "t:  35%|███▌      | 1583/4506 [04:03<00:10, 266.41it/s, now=None]"
     ]
    },
    {
     "name": "stdout",
     "output_type": "stream",
     "text": [
      "Moviepy - Done !\n",
      "Moviepy - video ready video_final.mp4\n"
     ]
    }
   ],
   "source": [
    "video_0_60 = video_audio_modificado.subclip(0,60)\n",
    "video_60_80 = video_audio_modificado.subclip(60,80)\n",
    "video_80_max = video_audio_modificado.subclip(80)\n",
    "\n",
    "video_final = mpe.concatenate_videoclips([video_0_60,video_80_max,video_60_80])\n",
    "\n",
    "video_final.write_videofile('video_final.mp4')"
   ]
  }
 ],
 "metadata": {
  "kernelspec": {
   "display_name": ".venv",
   "language": "python",
   "name": "python3"
  },
  "language_info": {
   "codemirror_mode": {
    "name": "ipython",
    "version": 3
   },
   "file_extension": ".py",
   "mimetype": "text/x-python",
   "name": "python",
   "nbconvert_exporter": "python",
   "pygments_lexer": "ipython3",
   "version": "3.12.7"
  }
 },
 "nbformat": 4,
 "nbformat_minor": 2
}
